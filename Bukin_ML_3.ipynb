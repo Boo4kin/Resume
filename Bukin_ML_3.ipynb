{
 "cells": [
  {
   "cell_type": "markdown",
   "metadata": {},
   "source": [
    "# Numpy"
   ]
  },
  {
   "cell_type": "markdown",
   "metadata": {},
   "source": [
    "Материалы:\n",
    "* Макрушин С.В. \"Лекция 1: Библиотека Numpy\"\n",
    "* https://numpy.org/doc/stable/user/index.html\n",
    "* https://numpy.org/doc/stable/reference/index.html"
   ]
  },
  {
   "cell_type": "markdown",
   "metadata": {},
   "source": [
    "## Задачи для совместного разбора"
   ]
  },
  {
   "cell_type": "markdown",
   "metadata": {},
   "source": [
    "1. Сгенерировать двухмерный массив `arr` размерности (4, 7), состоящий из случайных действительных чисел, равномерно распределенных в диапазоне от 0 до 20. Нормализовать значения массива с помощью преобразования вида  $𝑎𝑥+𝑏$  так, что после нормализации максимальный элемент масcива будет равен 1.0, минимальный 0.0"
   ]
  },
  {
   "cell_type": "code",
   "execution_count": 11,
   "metadata": {},
   "outputs": [
    {
     "name": "stdout",
     "output_type": "stream",
     "text": [
      "[[11.74742914 19.48171181  7.13413335  9.00020073  2.02513711 11.79018952\n",
      "   2.50132628]\n",
      " [ 8.00840088 10.45272522  0.08654066 14.8756075   1.27362354  3.99739531\n",
      "   9.4083515 ]\n",
      " [11.0716098  18.78947409  7.40857018 12.02364357  9.3431472  10.49646523\n",
      "   9.15575024]\n",
      " [ 9.21876907  4.64951776 18.58523825  8.04169855  7.91838156  5.82461772\n",
      "  11.30094345]]\n",
      "-----\n",
      "[[0.6 1.  0.4 0.5 0.1 0.6 0.1]\n",
      " [0.4 0.5 0.  0.8 0.1 0.2 0.5]\n",
      " [0.6 1.  0.4 0.6 0.5 0.5 0.5]\n",
      " [0.5 0.2 1.  0.4 0.4 0.3 0.6]]\n"
     ]
    }
   ],
   "source": [
    "import numpy as np\n",
    "arr = np.random.uniform(0, 20,28)\n",
    "arr = arr.reshape((4,7))\n",
    "minim = np.min(arr)\n",
    "maxim = np.max(arr)\n",
    "print(arr)\n",
    "print(\"-----\")\n",
    "print(np.around((arr-minim)/(maxim-minim), decimals=1))"
   ]
  },
  {
   "cell_type": "markdown",
   "metadata": {},
   "source": [
    "2. Создать матрицу 8 на 10 из случайных целых (используя модуль `numpy.random`) чисел из диапозона от 0 до 10 и найти в ней строку (ее индекс и вывести саму строку), в которой сумма значений минимальна."
   ]
  },
  {
   "cell_type": "code",
   "execution_count": 8,
   "metadata": {},
   "outputs": [
    {
     "name": "stdout",
     "output_type": "stream",
     "text": [
      "[[5 0 1 9 3 2 7 6 9 5]\n",
      " [8 0 1 9 0 7 8 3 3 0]\n",
      " [0 7 8 8 3 5 8 7 4 0]\n",
      " [2 4 2 1 6 2 1 9 6 3]\n",
      " [6 1 2 7 3 6 9 8 8 3]\n",
      " [1 8 4 9 8 0 8 2 9 3]\n",
      " [9 5 6 8 6 9 3 2 0 2]\n",
      " [7 3 6 2 6 8 4 3 3 5]]\n",
      "----\n",
      "Индекс 3\n",
      "Строка [7 3 6 2 6 8 4 3 3 5]\n"
     ]
    }
   ],
   "source": [
    "import numpy as np\n",
    "arr = np.random.randint(0, 10, 80)\n",
    "arr = arr.reshape(8, 10)\n",
    "k = 0\n",
    "minim = 10000\n",
    "for i in range(len(arr)):\n",
    "  if sum(arr[i]) <minim:\n",
    "    minim = sum(arr[i])\n",
    "    k = i\n",
    "print(arr)\n",
    "print(\"----\")\n",
    "print(f'Индекс {k}\\nСтрока {arr[i]}')"
   ]
  },
  {
   "cell_type": "markdown",
   "metadata": {},
   "source": [
    "3. Найти евклидово расстояние между двумя одномерными векторами одинаковой размерности."
   ]
  },
  {
   "cell_type": "code",
   "execution_count": 13,
   "metadata": {},
   "outputs": [
    {
     "name": "stdout",
     "output_type": "stream",
     "text": [
      "0 0 0\n",
      "1 1 1\n"
     ]
    },
    {
     "data": {
      "text/plain": [
       "<function print>"
      ]
     },
     "execution_count": 13,
     "metadata": {},
     "output_type": "execute_result"
    }
   ],
   "source": [
    "import numpy as np\n",
    "arr1 = np.array([int(i) for i in (input().split())]) \n",
    "arr2 = np.array([int(i) for i in (input().split())])\n",
    "d = np.sqrt(np.sum(np.square(arr1-arr2)))\n",
    "print"
   ]
  },
  {
   "cell_type": "markdown",
   "metadata": {},
   "source": [
    "4. Решить матричное уравнение `A*X*B=-C` - найти матрицу `X`. Где `A = [[-1, 2, 4], [-3, 1, 2], [-3, 0, 1]]`, `B=[[3, -1], [2, 1]]`, `C=[[7, 21], [11, 8], [8, 4]]`."
   ]
  },
  {
   "cell_type": "code",
   "execution_count": 5,
   "metadata": {},
   "outputs": [
    {
     "name": "stdout",
     "output_type": "stream",
     "text": [
      "[[ 1.  0.]\n",
      " [-2.  1.]\n",
      " [ 3. -4.]]\n"
     ]
    }
   ],
   "source": [
    "A = np.array([[-1, 2, 4], [-3, 1, 2], [-3, 0, 1]])\n",
    "B= np.array([[3, -1], [2, 1]])\n",
    "C=np.array([[7, 21], [11, 8], [8, 4]])\n",
    "AX = np.dot(C*(-1), np.linalg.inv(B))\n",
    "X = np.dot(np.linalg.inv(A), AX)\n",
    "print(np.around(X, decimals = 2))"
   ]
  },
  {
   "cell_type": "markdown",
   "metadata": {},
   "source": [
    "## Лабораторная работа №1"
   ]
  },
  {
   "cell_type": "markdown",
   "metadata": {},
   "source": [
    "Замечание: при решении данных задач не подразумевается использования циклов или генераторов Python, если в задании не сказано обратного. Решение должно опираться на использования функционала библиотеки `numpy`."
   ]
  },
  {
   "cell_type": "markdown",
   "metadata": {},
   "source": [
    "1. Файл `minutes_n_ingredients.csv` содержит информацию об идентификаторе рецепта, времени его выполнения в минутах и количестве необходимых ингредиентов. Считайте данные из этого файла в виде массива `numpy` типа `int32`, используя `np.loadtxt`. Выведите на экран первые 5 строк массива."
   ]
  },
  {
   "cell_type": "code",
   "execution_count": 73,
   "metadata": {},
   "outputs": [
    {
     "name": "stdout",
     "output_type": "stream",
     "text": [
      "[[127244     60     16]\n",
      " [ 23891     25      7]\n",
      " [ 94746     10      6]\n",
      " [ 67660      5      6]\n",
      " [157911     60     14]]\n"
     ]
    }
   ],
   "source": [
    "#понятно \n",
    "import numpy as np\n",
    "#загрузка файла и его чтение\n",
    "fail = np.loadtxt('minutes_n_ingredients.csv', dtype = 'int32',delimiter=',', skiprows = 1) #имя, тип данных, деление по , ; пропустить первую строчку\n",
    "print(fail[:5])# срезами выводим первые 5 строк"
   ]
  },
  {
   "cell_type": "markdown",
   "metadata": {},
   "source": [
    "2. Вычислите среднее значение, минимум, максимум и медиану по каждому из столбцов, кроме первого."
   ]
  },
  {
   "cell_type": "code",
   "execution_count": 74,
   "metadata": {},
   "outputs": [
    {
     "name": "stdout",
     "output_type": "stream",
     "text": [
      "Среднее значение  [2.16010017e+04 9.05528000e+00]\n",
      "Минимальные значения  [0 1]\n",
      "Максимальные значения  [2147483647         39]\n",
      "Медианы  [40.  9.]\n"
     ]
    }
   ],
   "source": [
    "#понятно\n",
    "print('Среднее значение ', np.mean(fail[:,1:],0))\n",
    "print('Минимальные значения ',np.min(fail[:,1:],0))\n",
    "print('Максимальные значения ',np.max(fail[:,1:],0))\n",
    "print('Медианы ',np.median(fail[:,1:],0))"
   ]
  },
  {
   "cell_type": "markdown",
   "metadata": {},
   "source": [
    "3. Ограничьте сверху значения продолжительности выполнения рецепта значением квантиля $q_{0.75}$. "
   ]
  },
  {
   "cell_type": "code",
   "execution_count": 75,
   "metadata": {},
   "outputs": [
    {
     "name": "stdout",
     "output_type": "stream",
     "text": [
      "65.0\n",
      "[[127244     60     16]\n",
      " [ 23891     25      7]\n",
      " [ 94746     10      6]\n",
      " ...\n",
      " [ 43407     35      7]\n",
      " [498432     65     15]\n",
      " [370915      5      4]]\n"
     ]
    }
   ],
   "source": [
    "#квантиль-это вероятность, с которой значение не превышает максимум, в нашем случае эта вероятность равна 0.75 \n",
    "M = np.quantile(fail[:,1], 0.75) #срез первого столбца\n",
    "print(M)\n",
    "print(fail[fail[:,1]<=M])"
   ]
  },
  {
   "cell_type": "markdown",
   "metadata": {},
   "source": [
    "4. Посчитайте, для скольких рецептов указана продолжительность, равная нулю. Замените для таких строк значение в данном столбце на 1."
   ]
  },
  {
   "cell_type": "code",
   "execution_count": 76,
   "metadata": {},
   "outputs": [
    {
     "name": "stdout",
     "output_type": "stream",
     "text": [
      "0\n"
     ]
    }
   ],
   "source": [
    "a = np.count_nonzero(fail[:,1] == 0)           # выбрасываем строки , где не 0 и потом заменяем их на 1\n",
    "fail[fail[:,1]==0] = 1                         # перебор строк в столбце 1\n",
    "print(np.count_nonzero(fail[:,1] == 0))"
   ]
  },
  {
   "cell_type": "markdown",
   "metadata": {},
   "source": [
    "5. Посчитайте, сколько уникальных рецептов находится в датасете."
   ]
  },
  {
   "cell_type": "code",
   "execution_count": 78,
   "metadata": {},
   "outputs": [
    {
     "name": "stdout",
     "output_type": "stream",
     "text": [
      "99522\n"
     ]
    }
   ],
   "source": [
    "a = set((fail[:,0]))\n",
    "print(len(a))"
   ]
  },
  {
   "cell_type": "markdown",
   "metadata": {},
   "source": [
    "6. Сколько и каких различных значений кол-ва ингредиентов присутвует в рецептах из датасета?"
   ]
  },
  {
   "cell_type": "code",
   "execution_count": 57,
   "metadata": {},
   "outputs": [
    {
     "name": "stdout",
     "output_type": "stream",
     "text": [
      "[[    1   492]\n",
      " [    2   924]\n",
      " [    3  2884]\n",
      " [    4  5479]\n",
      " [    5  7874]\n",
      " [    6  9328]\n",
      " [    7 10579]\n",
      " [    8 10887]\n",
      " [    9 10542]\n",
      " [   10  9548]\n",
      " [   11  8262]\n",
      " [   12  6574]\n",
      " [   13  4985]\n",
      " [   14  3639]\n",
      " [   15  2583]\n",
      " [   16  1760]\n",
      " [   17  1237]\n",
      " [   18   787]\n",
      " [   19   566]\n",
      " [   20   376]\n",
      " [   21   214]\n",
      " [   22   161]\n",
      " [   23   105]\n",
      " [   24    68]\n",
      " [   25    50]\n",
      " [   26    28]\n",
      " [   27    16]\n",
      " [   28    16]\n",
      " [   29    12]\n",
      " [   30    12]\n",
      " [   31     3]\n",
      " [   32     1]\n",
      " [   33     2]\n",
      " [   34     1]\n",
      " [   35     3]\n",
      " [   37     1]\n",
      " [   39     1]]\n"
     ]
    }
   ],
   "source": [
    "a, number = np.unique(fail[:,2], return_counts=True)# unique- уникальный\n",
    "print(np.column_stack((a, number)))"
   ]
  },
  {
   "cell_type": "markdown",
   "metadata": {},
   "source": [
    "7. Создайте версию массива, содержащую информацию только о рецептах, состоящих не более чем из 5 ингредиентов."
   ]
  },
  {
   "cell_type": "code",
   "execution_count": 58,
   "metadata": {},
   "outputs": [
    {
     "name": "stdout",
     "output_type": "stream",
     "text": [
      "[[446597     15      5]\n",
      " [204134      5      3]\n",
      " [ 25623      6      4]\n",
      " ...\n",
      " [ 52088     60      5]\n",
      " [128811     15      4]\n",
      " [370915      5      4]]\n",
      "\n",
      "\n",
      " [[127244     60     16]\n",
      " [ 23891     25      7]\n",
      " [ 94746     10      6]\n",
      " ...\n",
      " [498432     65     15]\n",
      " [370915      5      4]\n",
      " [ 81993    140     14]]\n"
     ]
    }
   ],
   "source": [
    "arr = fail[fail[:,2]<=5]\n",
    "a = np.copy(arr)\n",
    "print(a)\n",
    "print('\\n\\n',fail)"
   ]
  },
  {
   "cell_type": "markdown",
   "metadata": {},
   "source": [
    "8. Для каждого рецепта посчитайте, сколько в среднем ингредиентов приходится на одну минуту рецепта. Найдите максимальное значение этой величины для всего датасета"
   ]
  },
  {
   "cell_type": "code",
   "execution_count": 59,
   "metadata": {},
   "outputs": [
    {
     "name": "stdout",
     "output_type": "stream",
     "text": [
      "23.0\n"
     ]
    }
   ],
   "source": [
    "a = fail[:,2]/fail[:,1]#  делим 2 на 1 столбец\n",
    "print( max(a))"
   ]
  },
  {
   "cell_type": "markdown",
   "metadata": {},
   "source": [
    "9. Вычислите среднее количество ингредиентов для топ-100 рецептов с наибольшей продолжительностью"
   ]
  },
  {
   "cell_type": "code",
   "execution_count": 60,
   "metadata": {},
   "outputs": [
    {
     "name": "stdout",
     "output_type": "stream",
     "text": [
      "6.61\n"
     ]
    }
   ],
   "source": [
    "a = fail[:,1].argsort()# сортирует массив , но возвращает индексы, а не значени ямассива \n",
    "b = fail[a][-100:]\n",
    "print(np.mean(b[:,2], axis = 0))# ср.знач 2 столбца "
   ]
  },
  {
   "cell_type": "markdown",
   "metadata": {},
   "source": [
    "10. Выберите случайным образом и выведите информацию о 10 различных рецептах"
   ]
  },
  {
   "cell_type": "code",
   "execution_count": 61,
   "metadata": {},
   "outputs": [
    {
     "name": "stdout",
     "output_type": "stream",
     "text": [
      "[[ 58050     40      7]\n",
      " [182892    180     10]\n",
      " [165650     15      6]\n",
      " [169265     20      6]\n",
      " [270028     85     13]\n",
      " [376063   4335      6]\n",
      " [504600     30      8]\n",
      " [ 54057     35     15]\n",
      " [ 33323     15      7]\n",
      " [343529     23      8]]\n"
     ]
    }
   ],
   "source": [
    "a = np.random.randint(fail.shape[0], size = 10)# берем 10 рандомных значений и закидываем в массив.\n",
    "print(fail[a])"
   ]
  },
  {
   "cell_type": "markdown",
   "metadata": {},
   "source": [
    "11. Выведите процент рецептов, кол-во ингредиентов в которых меньше среднего."
   ]
  },
  {
   "cell_type": "code",
   "execution_count": 62,
   "metadata": {},
   "outputs": [
    {
     "name": "stdout",
     "output_type": "stream",
     "text": [
      "[[ 23891     25      7]\n",
      " [ 94746     10      6]\n",
      " [ 67660      5      6]\n",
      " ...\n",
      " [371794     35      8]\n",
      " [ 43407     35      7]\n",
      " [370915      5      4]]\n",
      "----\n",
      "58.989 %\n"
     ]
    }
   ],
   "source": [
    "a = np.mean(fail[:,2], axis = 0)\n",
    "print(fail[fail[:,2]<a])# выводим 2 стобец , в котором уже все значения меньше среднего \n",
    "print('----')\n",
    "print((100*len(fail[fail[:,2]<a]))/len(fail),'%')# ищем проценты, деля 2 строчку() на всю длину файла"
   ]
  },
  {
   "cell_type": "markdown",
   "metadata": {},
   "source": [
    "12. Назовем \"простым\" такой рецепт, длительность выполнения которого не больше 20 минут и кол-во ингредиентов в котором не больше 5. Создайте версию датасета с дополнительным столбцом, значениями которого являются 1, если рецепт простой, и 0 в противном случае."
   ]
  },
  {
   "cell_type": "code",
   "execution_count": 49,
   "metadata": {},
   "outputs": [
    {
     "name": "stdout",
     "output_type": "stream",
     "text": [
      "[[127244     60     16      0]\n",
      " [ 23891     25      7      0]\n",
      " [ 94746     10      6      0]\n",
      " ...\n",
      " [498432     65     15      0]\n",
      " [     1      1      1      1]\n",
      " [ 81993    140     14      0]]\n"
     ]
    }
   ],
   "source": [
    "a = np.append(fail, np.zeros((fail.shape[0],1), dtype = 'int32'), axis = 1)\n",
    "a[np.logical_and(a[:,1]<=20,a[:,2]<=5)] = 1\n",
    "a = a.copy()\n",
    "print(a)"
   ]
  },
  {
   "cell_type": "markdown",
   "metadata": {},
   "source": [
    "13. Выведите процент \"простых\" рецептов в датасете"
   ]
  },
  {
   "cell_type": "code",
   "execution_count": 50,
   "metadata": {},
   "outputs": [
    {
     "name": "stdout",
     "output_type": "stream",
     "text": [
      "9.943\n"
     ]
    }
   ],
   "source": [
    "b = a[a[:,3] == 1]# создаем новый массив ,где есть 4 столбец, в котором простые и не простые рецепты\n",
    "print((100*len(b)/len(fail)))# считаем проценты с этим столбцом "
   ]
  },
  {
   "cell_type": "markdown",
   "metadata": {},
   "source": [
    "14. Разделим рецепты на группы по следующему правилу. Назовем рецепты короткими, если их продолжительность составляет менее 10 минут; стандартными, если их продолжительность составляет более 10, но менее 20 минут; и длинными, если их продолжительность составляет не менее 20 минут. Создайте трехмерный массив, где нулевая ось отвечает за номер группы (короткий, стандартный или длинный рецепт), первая ось - за сам рецепт и вторая ось - за характеристики рецепта. Выберите максимальное количество рецептов из каждой группы таким образом, чтобы было возможно сформировать трехмерный массив. Выведите форму полученного массива."
   ]
  },
  {
   "cell_type": "code",
   "execution_count": 81,
   "metadata": {},
   "outputs": [
    {
     "name": "stdout",
     "output_type": "stream",
     "text": [
      "(1, 3, 7587, 3)\n",
      "[[[[ 67660      5      6]\n",
      "   [366174      7      9]\n",
      "   [204134      5      3]\n",
      "   ...\n",
      "   [     1      1      1]\n",
      "   [420725      5      3]\n",
      "   [     1      1      1]]\n",
      "\n",
      "  [[ 94746     10      6]\n",
      "   [ 33941     18      9]\n",
      "   [446597     15      5]\n",
      "   ...\n",
      "   [107094     10      4]\n",
      "   [  9831     15      7]\n",
      "   [335859     12     14]]\n",
      "\n",
      "  [[127244     60     16]\n",
      "   [ 23891     25      7]\n",
      "   [157911     60     14]\n",
      "   ...\n",
      "   [ 92137     80      9]\n",
      "   [168901     25      7]\n",
      "   [392339     35     13]]]]\n"
     ]
    }
   ],
   "source": [
    "a1 = fail[fail[:,1]<10]# короткие рецепты\n",
    "a2 = fail[np.logical_and(fail[:,1]>=10, fail[:,1]<20)]#стандартные рецпеты\n",
    "a3 = fail[fail[:,1]>=20]#длинные \n",
    "m = min(len(a1), len(a2), len(a3))\n",
    "b = np.array([[a1[:m-1],a2[:m-1],a3[:m-1]]])\n",
    "print(b.shape)\n",
    "print(b)"
   ]
  },
  {
   "cell_type": "code",
   "execution_count": null,
   "metadata": {},
   "outputs": [],
   "source": []
  }
 ],
 "metadata": {
  "kernelspec": {
   "display_name": "Python 3 (ipykernel)",
   "language": "python",
   "name": "python3"
  },
  "language_info": {
   "codemirror_mode": {
    "name": "ipython",
    "version": 3
   },
   "file_extension": ".py",
   "mimetype": "text/x-python",
   "name": "python",
   "nbconvert_exporter": "python",
   "pygments_lexer": "ipython3",
   "version": "3.9.7"
  }
 },
 "nbformat": 4,
 "nbformat_minor": 4
}
